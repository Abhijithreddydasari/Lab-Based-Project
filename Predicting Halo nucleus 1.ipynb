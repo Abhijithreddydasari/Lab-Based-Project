{
 "cells": [
  {
   "cell_type": "code",
   "execution_count": 14,
   "id": "7734d719",
   "metadata": {},
   "outputs": [],
   "source": [
    "import pandas as pd\n",
    "import numpy as np\n",
    "import matplotlib.pyplot as plt\n",
    "from sklearn.linear_model import LogisticRegression\n",
    "from sklearn.metrics import accuracy_score,confusion_matrix\n",
    "from sklearn.model_selection import train_test_split"
   ]
  },
  {
   "cell_type": "code",
   "execution_count": 15,
   "id": "00aeff4b",
   "metadata": {},
   "outputs": [],
   "source": [
    "data = pd.read_csv('Data for classification.csv')\n",
    "data.head()\n",
    "model = LogisticRegression()\n",
    "x = data.drop(columns = \"Halo\")\n",
    "y = data[\"Halo\"].copy()"
   ]
  },
  {
   "cell_type": "code",
   "execution_count": 18,
   "id": "a37abdde",
   "metadata": {},
   "outputs": [
    {
     "data": {
      "text/plain": [
       "0.9090909090909091"
      ]
     },
     "execution_count": 18,
     "metadata": {},
     "output_type": "execute_result"
    }
   ],
   "source": [
    "model.fit(x,y)\n",
    "predicted = model.predict(x)\n",
    "accuracy_score(predicted,y)"
   ]
  },
  {
   "cell_type": "code",
   "execution_count": 28,
   "id": "facf4eb5",
   "metadata": {},
   "outputs": [
    {
     "name": "stdout",
     "output_type": "stream",
     "text": [
      "Accuracy:  0.8333333333333334\n"
     ]
    }
   ],
   "source": [
    "X_train, X_test, y_train, y_test = train_test_split(x, y, test_size=0.25, random_state=5)\n",
    "clf = LogisticRegression(random_state=5)\n",
    "clf.fit(X_train, y_train)\n",
    "y_pred = clf.predict(X_test)\n",
    "print(\"Accuracy: \", clf.score(X_test, y_test))"
   ]
  }
 ],
 "metadata": {
  "kernelspec": {
   "display_name": "Python 3 (ipykernel)",
   "language": "python",
   "name": "python3"
  },
  "language_info": {
   "codemirror_mode": {
    "name": "ipython",
    "version": 3
   },
   "file_extension": ".py",
   "mimetype": "text/x-python",
   "name": "python",
   "nbconvert_exporter": "python",
   "pygments_lexer": "ipython3",
   "version": "3.9.2"
  }
 },
 "nbformat": 4,
 "nbformat_minor": 5
}
